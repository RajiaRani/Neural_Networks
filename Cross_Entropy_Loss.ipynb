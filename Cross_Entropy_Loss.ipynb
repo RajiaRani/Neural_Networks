{
 "cells": [
  {
   "cell_type": "code",
   "execution_count": 7,
   "id": "6b34aaa3",
   "metadata": {},
   "outputs": [],
   "source": [
    "import numpy as np"
   ]
  },
  {
   "cell_type": "markdown",
   "id": "78eede45",
   "metadata": {},
   "source": [
    "# Case1: Using numbers only when class tragets are numbers - like 0, 1,,2,2,4"
   ]
  },
  {
   "cell_type": "code",
   "execution_count": 9,
   "id": "bbb29453",
   "metadata": {},
   "outputs": [
    {
     "name": "stdout",
     "output_type": "stream",
     "text": [
      "[0.7 0.5 0.9]\n"
     ]
    }
   ],
   "source": [
    "softmax_output = np.array([ [0.7, 0.2, 0.3], [0.1, 0.5, 0.2], [0.2, 0.9, 0.6]])\n",
    "class_target = [0, 1, 1]\n",
    "print(softmax_output[[0, 1, 2], class_target])"
   ]
  },
  {
   "cell_type": "code",
   "execution_count": 10,
   "id": "d0f7609f",
   "metadata": {},
   "outputs": [
    {
     "name": "stdout",
     "output_type": "stream",
     "text": [
      "[0.35667494 0.69314718 0.10536052]\n",
      "Average Loss =  0.38506088005216804\n"
     ]
    }
   ],
   "source": [
    "print (-np.log(softmax_output[range(len(softmax_output)), class_target]))\n",
    "neg_log = -np.log(softmax_output[range(len(softmax_output)), class_target])\n",
    "average_loss = np.mean(neg_log)\n",
    "print(\"Average Loss = \", average_loss)"
   ]
  },
  {
   "cell_type": "markdown",
   "id": "87fd3053",
   "metadata": {},
   "source": [
    "# Case2 : Class Targets is ONE-HOT Encoded"
   ]
  },
  {
   "cell_type": "code",
   "execution_count": 11,
   "id": "679cb5d4",
   "metadata": {},
   "outputs": [
    {
     "name": "stdout",
     "output_type": "stream",
     "text": [
      "After Multiplication =  [[0.7 0.  0. ]\n",
      " [0.  0.5 0. ]\n",
      " [0.  0.9 0. ]]\n",
      "Sum row vise =  [0.7 0.5 0.9]\n",
      "Negative log =  [0.35667494 0.69314718 0.10536052]\n",
      "Loss =  0.38506088005216804\n"
     ]
    }
   ],
   "source": [
    "y_true_check = np.array([\n",
    "    [1, 0, 0],\n",
    "    [0, 1, 0],\n",
    "    [0, 1, 0]\n",
    "])\n",
    "y_pred_clipped_check = np.array([\n",
    "    [0.7, 0.2, 0.3], \n",
    "    [0.4, 0.5, 0.1],\n",
    "    [0.8, 0.9, 0.2]\n",
    "])\n",
    "dot_product =  y_true_check*y_pred_clipped_check\n",
    "print(\"After Multiplication = \" , dot_product)\n",
    "sum = np.sum(dot_product, axis=1)\n",
    "print(\"Sum row vise = \", sum)\n",
    "negative_log = - np.log(sum)\n",
    "print(\"Negative log = \", negative_log)\n",
    "Average_Loss = np.mean(negative_log)\n",
    "print(\"Loss = \", average_loss)\n",
    "\n"
   ]
  },
  {
   "cell_type": "code",
   "execution_count": 12,
   "id": "e4a5deb0",
   "metadata": {},
   "outputs": [],
   "source": [
    "# LOSS\n",
    "class Loss:\n",
    "    # calculate the data and regularization losses\n",
    "    # given model output and ground truth values\n",
    "    def calcualtes(self, output, y):\n",
    "        #Calculate sample loss\n",
    "        sample_losses = self.forward(output, y)\n",
    "\n",
    "        # calculate mean loss\n",
    "        data_loss = np.mean(sample_losses)\n",
    "\n",
    "        # return loss\n",
    "        return data_loss\n"
   ]
  },
  {
   "cell_type": "code",
   "execution_count": 20,
   "id": "9491ffae",
   "metadata": {},
   "outputs": [],
   "source": [
    "# Cross Entropy Loss\n",
    "class Loss_CategoricalCrossEntropy(Loss):\n",
    "    # Forward Pass\n",
    "    def forward(self, y_pred, y_true):\n",
    "        # Number of samples in batch\n",
    "        sample = len(y_pred)\n",
    "    # Clip data to prevent division by 0\n",
    "    # Clip both sides to not drag mean towards any value\n",
    "        y_pred_clipped = np.clip( y_pred, 1e-7, 1 - 1e-7)\n",
    "    # Probabilities for target values\n",
    "    # Only if categorical labels\n",
    "        if len(y_true.shape) == 1: # one dim\n",
    "            correct_confidences = y_pred_clipped[\n",
    "                range(sample),\n",
    "                y_true\n",
    "            ]\n",
    "\n",
    "        # Mask Values - only for ONE-HOT ENCODED\n",
    "        elif len(y_true.shape) == 2: # 2 dim\n",
    "            correct_confidences = np.sum(\n",
    "                y_pred_clipped*y_true,\n",
    "                axis=1\n",
    "            )\n",
    "\n",
    "        # LOSSES\n",
    "        negative_log_likelihoods = -np.log(correct_confidences)\n",
    "        return negative_log_likelihoods"
   ]
  },
  {
   "cell_type": "markdown",
   "id": "83ee456e",
   "metadata": {},
   "source": [
    "# Apply the final code "
   ]
  },
  {
   "cell_type": "code",
   "execution_count": 21,
   "id": "304f730f",
   "metadata": {},
   "outputs": [
    {
     "name": "stdout",
     "output_type": "stream",
     "text": [
      "Final Loss =  0.38506088005216804\n"
     ]
    }
   ],
   "source": [
    "softmax_output = np.array([[0.7, 0.1, 0.2], [0.1, 0.5, 0.4], [0.02, 0.9, 0.08]])\n",
    "class_target = np.array([[1, 0, 0], [0, 1, 0], [0, 1, 0] ])\n",
    "loss_function = Loss_CategoricalCrossEntropy()\n",
    "loss = loss_function.calcualtes(softmax_output, class_target)\n",
    "print(\"Final Loss = \", loss)"
   ]
  }
 ],
 "metadata": {
  "kernelspec": {
   "display_name": "Python 3",
   "language": "python",
   "name": "python3"
  },
  "language_info": {
   "codemirror_mode": {
    "name": "ipython",
    "version": 3
   },
   "file_extension": ".py",
   "mimetype": "text/x-python",
   "name": "python",
   "nbconvert_exporter": "python",
   "pygments_lexer": "ipython3",
   "version": "3.9.6"
  }
 },
 "nbformat": 4,
 "nbformat_minor": 5
}
