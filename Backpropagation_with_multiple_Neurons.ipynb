{
 "cells": [
  {
   "cell_type": "code",
   "execution_count": null,
   "id": "c974d89f",
   "metadata": {},
   "outputs": [],
   "source": [
    "import numpy as np\n",
    "\n",
    "# initial inputs\n",
    "inputs = np.array([1, 2, 3, 4])\n",
    "\n",
    "weights = np.array([\n",
    "    [0.1, 0.2, 0.3, 0.4],\n",
    "    [0.5, 0.6, 0.7, 0.8],\n",
    "    [0.9, 1.0, 1.1, 1.2]\n",
    "])\n",
    "biases = np.array([0.1, 0.2, 0.3])\n",
    "\n",
    "# Learniing rate\n",
    "learning_rate = 0.001\n",
    "\n",
    "# ReLU Activation\n",
    "\n"
   ]
  }
 ],
 "metadata": {
  "language_info": {
   "name": "python"
  }
 },
 "nbformat": 4,
 "nbformat_minor": 5
}
