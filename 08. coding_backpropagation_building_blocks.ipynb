{
 "cells": [
  {
   "cell_type": "code",
   "execution_count": 1,
   "id": "0bab95d5",
   "metadata": {},
   "outputs": [],
   "source": [
    "import numpy as np"
   ]
  },
  {
   "cell_type": "code",
   "execution_count": 2,
   "id": "7dd83ce4",
   "metadata": {},
   "outputs": [
    {
     "name": "stdout",
     "output_type": "stream",
     "text": [
      "[[ 0.5  0.5  0.5]\n",
      " [20.1 20.1 20.1]\n",
      " [10.9 10.9 10.9]\n",
      " [ 4.1  4.1  4.1]]\n"
     ]
    }
   ],
   "source": [
    "dvalues = np.array( [ [1., 1., 1.], [2., 2., 2.], [3., 3., 3.,]])\n",
    "inputs = np.array([[1, 2, 3, 2.5], [2.0, 5.0, -1.0, 2], [-1.5, 2.7, 3.3, -0.8]])\n",
    "\n",
    "dweights = np.dot(inputs.T, dvalues)\n",
    "print(dweights)"
   ]
  },
  {
   "cell_type": "code",
   "execution_count": 4,
   "id": "f391ebd1",
   "metadata": {},
   "outputs": [
    {
     "name": "stdout",
     "output_type": "stream",
     "text": [
      "[[6. 6. 6.]]\n"
     ]
    }
   ],
   "source": [
    "dvalues = np.array( [ [1., 1., 1.], [2., 2., 2.], [3., 3., 3.,]])\n",
    "biases = np.array([[2, 3, 0.5]])\n",
    "\n",
    "dbiases = np.sum(dvalues, axis=0, keepdims=True)\n",
    "print(dbiases)"
   ]
  },
  {
   "cell_type": "code",
   "execution_count": 9,
   "id": "d9819be8",
   "metadata": {},
   "outputs": [
    {
     "name": "stdout",
     "output_type": "stream",
     "text": [
      "[[ 0.44 -0.38 -0.07  1.37]\n",
      " [ 0.88 -0.76 -0.14  2.74]\n",
      " [ 1.32 -1.14 -0.21  4.11]]\n"
     ]
    }
   ],
   "source": [
    "dvalues = np.array( [ [1., 1., 1.], [2., 2., 2.], [3., 3., 3.,]])\n",
    "# we have 3 sets of weights - one set for each neurons\n",
    "# we have 4 inputs, thus 4 weights\n",
    "weights = np.array([[0.2, 0.8, -0.5, 1.], [0.5, -0.91, 0.26, -0.5], [-0.26, -0.27, 0.17, 0.87]]).T\n",
    "\n",
    "dweights = np.dot(dvalues, weights.T)\n",
    "print(dweights)\n"
   ]
  },
  {
   "cell_type": "markdown",
   "id": "74f070ed",
   "metadata": {},
   "source": [
    "# Adding Backward Method in the layer-Dense class"
   ]
  },
  {
   "cell_type": "code",
   "execution_count": 11,
   "id": "bf4ab7b7",
   "metadata": {},
   "outputs": [],
   "source": [
    "# Dense Layer\n",
    "class Layer_Dense:\n",
    "    # Layer initialization\n",
    "    def __init__(self, n_inputs, n_neurons):\n",
    "        # Initialize weights and biases\n",
    "        self.weights = 0.01 * np.random.randn(n_inputs, n_neurons)\n",
    "        self.biases = np.zeros((1, n_neurons))\n",
    "    \n",
    "    # Forward Pass\n",
    "    def forward(self, inputs):\n",
    "        # Remember Inputs\n",
    "        self.inputs = inputs\n",
    "        # Calculate output values from input ones, weights and biase = (W.X + B)\n",
    "        self.output = np.dot(inputs, self.weights) + self.biases\n",
    "\n",
    "\n",
    "    #Backward Pass\n",
    "    def Backward(self, dvalues):\n",
    "        # Gradient on parameters\n",
    "        # For weights\n",
    "        self.dweights = np.dot(self.inputs.T, dvalues)\n",
    "        # For biases\n",
    "        self.biases = np.sum(dvalues, axis=0, keepdims=True)\n",
    "        #Gradient on values (inputs)\n",
    "        self.dinputs = np.dot(dvalues, self.weights.T)"
   ]
  }
 ],
 "metadata": {
  "kernelspec": {
   "display_name": "Python 3",
   "language": "python",
   "name": "python3"
  },
  "language_info": {
   "codemirror_mode": {
    "name": "ipython",
    "version": 3
   },
   "file_extension": ".py",
   "mimetype": "text/x-python",
   "name": "python",
   "nbconvert_exporter": "python",
   "pygments_lexer": "ipython3",
   "version": "3.9.6"
  }
 },
 "nbformat": 4,
 "nbformat_minor": 5
}
