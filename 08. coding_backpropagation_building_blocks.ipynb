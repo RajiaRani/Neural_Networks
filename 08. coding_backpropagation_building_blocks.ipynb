{
 "cells": [
  {
   "cell_type": "code",
   "execution_count": 1,
   "id": "0bab95d5",
   "metadata": {},
   "outputs": [],
   "source": [
    "import numpy as np"
   ]
  },
  {
   "cell_type": "code",
   "execution_count": 2,
   "id": "7dd83ce4",
   "metadata": {},
   "outputs": [
    {
     "name": "stdout",
     "output_type": "stream",
     "text": [
      "[[ 0.5  0.5  0.5]\n",
      " [20.1 20.1 20.1]\n",
      " [10.9 10.9 10.9]\n",
      " [ 4.1  4.1  4.1]]\n"
     ]
    }
   ],
   "source": [
    "dvalues = np.array( [ [1., 1., 1.], [2., 2., 2.], [3., 3., 3.,]])\n",
    "inputs = np.array([[1, 2, 3, 2.5], [2.0, 5.0, -1.0, 2], [-1.5, 2.7, 3.3, -0.8]])\n",
    "\n",
    "dweights = np.dot(inputs.T, dvalues)\n",
    "print(dweights)"
   ]
  },
  {
   "cell_type": "code",
   "execution_count": 4,
   "id": "f391ebd1",
   "metadata": {},
   "outputs": [
    {
     "name": "stdout",
     "output_type": "stream",
     "text": [
      "[[6. 6. 6.]]\n"
     ]
    }
   ],
   "source": [
    "dvalues = np.array( [ [1., 1., 1.], [2., 2., 2.], [3., 3., 3.,]])\n",
    "biases = np.array([[2, 3, 0.5]])\n",
    "\n",
    "dbiases = np.sum(dvalues, axis=0, keepdims=True)\n",
    "print(dbiases)"
   ]
  },
  {
   "cell_type": "code",
   "execution_count": 5,
   "id": "d9819be8",
   "metadata": {},
   "outputs": [
    {
     "ename": "ValueError",
     "evalue": "shapes (3,3) and (4,3) not aligned: 3 (dim 1) != 4 (dim 0)",
     "output_type": "error",
     "traceback": [
      "\u001b[0;31m---------------------------------------------------------------------------\u001b[0m",
      "\u001b[0;31mValueError\u001b[0m                                Traceback (most recent call last)",
      "Cell \u001b[0;32mIn[5], line 4\u001b[0m\n\u001b[1;32m      1\u001b[0m dvalues \u001b[38;5;241m=\u001b[39m np\u001b[38;5;241m.\u001b[39marray( [ [\u001b[38;5;241m1.\u001b[39m, \u001b[38;5;241m1.\u001b[39m, \u001b[38;5;241m1.\u001b[39m], [\u001b[38;5;241m2.\u001b[39m, \u001b[38;5;241m2.\u001b[39m, \u001b[38;5;241m2.\u001b[39m], [\u001b[38;5;241m3.\u001b[39m, \u001b[38;5;241m3.\u001b[39m, \u001b[38;5;241m3.\u001b[39m,]])\n\u001b[1;32m      2\u001b[0m weights \u001b[38;5;241m=\u001b[39m np\u001b[38;5;241m.\u001b[39marray([[\u001b[38;5;241m0.2\u001b[39m, \u001b[38;5;241m0.8\u001b[39m, \u001b[38;5;241m-\u001b[39m\u001b[38;5;241m0.5\u001b[39m, \u001b[38;5;241m1.\u001b[39m], [\u001b[38;5;241m0.5\u001b[39m, \u001b[38;5;241m-\u001b[39m\u001b[38;5;241m0.91\u001b[39m, \u001b[38;5;241m0.26\u001b[39m, \u001b[38;5;241m-\u001b[39m\u001b[38;5;241m0.5\u001b[39m], [\u001b[38;5;241m-\u001b[39m\u001b[38;5;241m0.26\u001b[39m, \u001b[38;5;241m-\u001b[39m\u001b[38;5;241m0.27\u001b[39m, \u001b[38;5;241m0.17\u001b[39m, \u001b[38;5;241m0.87\u001b[39m]])\n\u001b[0;32m----> 4\u001b[0m dweights \u001b[38;5;241m=\u001b[39m \u001b[43mnp\u001b[49m\u001b[38;5;241;43m.\u001b[39;49m\u001b[43mdot\u001b[49m\u001b[43m(\u001b[49m\u001b[43mdvalues\u001b[49m\u001b[43m,\u001b[49m\u001b[43m \u001b[49m\u001b[43mweights\u001b[49m\u001b[38;5;241;43m.\u001b[39;49m\u001b[43mT\u001b[49m\u001b[43m)\u001b[49m\n\u001b[1;32m      5\u001b[0m \u001b[38;5;28mprint\u001b[39m(dweights)\n",
      "\u001b[0;31mValueError\u001b[0m: shapes (3,3) and (4,3) not aligned: 3 (dim 1) != 4 (dim 0)"
     ]
    }
   ],
   "source": [
    "dvalues = np.array( [ [1., 1., 1.], [2., 2., 2.], [3., 3., 3.,]])\n",
    "weights = np.array([[0.2, 0.8, -0.5, 1.], [0.5, -0.91, 0.26, -0.5], [-0.26, -0.27, 0.17, 0.87]])\n",
    "\n",
    "dweights = np.dot(dvalues, weights.T)\n",
    "print(dweights)\n"
   ]
  }
 ],
 "metadata": {
  "kernelspec": {
   "display_name": "Python 3",
   "language": "python",
   "name": "python3"
  },
  "language_info": {
   "codemirror_mode": {
    "name": "ipython",
    "version": 3
   },
   "file_extension": ".py",
   "mimetype": "text/x-python",
   "name": "python",
   "nbconvert_exporter": "python",
   "pygments_lexer": "ipython3",
   "version": "3.9.6"
  }
 },
 "nbformat": 4,
 "nbformat_minor": 5
}
