{
 "cells": [
  {
   "cell_type": "code",
   "execution_count": 12,
   "id": "583a0df0",
   "metadata": {},
   "outputs": [],
   "source": [
    "import numpy as np\n",
    "import nnfs\n",
    "from nnfs.datasets import spiral_data\n",
    "nnfs.init()"
   ]
  },
  {
   "cell_type": "markdown",
   "id": "9e7fa119",
   "metadata": {},
   "source": [
    "🔹 Case 1: Weights stored as (inputs × neurons)\n",
    "Shape: (inputs, neurons)\n",
    "Each column = weights for one neuron\n",
    "\n",
    "Convenient for coding (NNFS library uses this)\n",
    "\n",
    "Forward pass:  𝑍 = 𝑋.𝑊 + 𝑏\n",
    "Z=XW+b\n",
    "\n",
    "✅ No transpose needed."
   ]
  },
  {
   "cell_type": "code",
   "execution_count": 2,
   "id": "0d68b487",
   "metadata": {},
   "outputs": [
    {
     "name": "stdout",
     "output_type": "stream",
     "text": [
      "Final result: [3.2  2.   0.52]\n"
     ]
    }
   ],
   "source": [
    "import numpy as np\n",
    "\n",
    "# Take 2 inputs and 3 neurons\n",
    "X = np.array([1, 2])\n",
    "W = np.array([[0.2, 0.8, -0.5], [0.5, -0.9, 0.26]]) # shape (1,2) 1 sample, 2 features\n",
    "B = np.array([2, 3, 0.5])\n",
    "\n",
    "#Forward pss\n",
    "Z = np.dot(X, W) + B\n",
    "print(\"Final result:\", Z)"
   ]
  },
  {
   "cell_type": "markdown",
   "id": "13527798",
   "metadata": {},
   "source": [
    "🔹 Case 2: Weights stored as (neurons × inputs)\n",
    "2. Neurons × Inputs (this new case)\n",
    "Shape: (neurons, inputs)\n",
    "\n",
    "Each row = weights for one neuron\n",
    "\n",
    "More common in textbooks\n",
    "\n",
    "Forward pass:\n",
    "\n",
    "𝑍 = 𝑋 𝑊 𝑇 +𝑏\n",
    "Z= XWT +b\n",
    "\n",
    "👉 Here we must transpose to align shapes."
   ]
  },
  {
   "cell_type": "code",
   "execution_count": 3,
   "id": "a757acab",
   "metadata": {},
   "outputs": [
    {
     "name": "stdout",
     "output_type": "stream",
     "text": [
      "[3.2  2.   0.52]\n"
     ]
    }
   ],
   "source": [
    "X = np.array([1,2])\n",
    "W = np.array([ [0.2, 0.5], [0.8, -0.9], [-0.5, 0.26]])\n",
    "B = np.array([2, 3, 0.5])\n",
    "Z = np.dot(X, W.T) + B\n",
    "print(Z)"
   ]
  },
  {
   "cell_type": "code",
   "execution_count": 17,
   "id": "d762d27b",
   "metadata": {},
   "outputs": [
    {
     "name": "stdout",
     "output_type": "stream",
     "text": [
      "[[-0.02666883  0.02990897 -0.01039604]]\n"
     ]
    }
   ],
   "source": [
    "#Dense layer\n",
    "\n",
    "class Layer_dense:\n",
    "    def __init__(self, n_inputs, n_neurons):\n",
    "        self.weights = 0.01 * np.random.randn(n_inputs, n_neurons)\n",
    "        self.biases = np.zeros((1, n_neurons))\n",
    "    def forward(self, inputs):\n",
    "        self.output = np.dot(inputs, self.weights) + self.biases\n",
    "    X, y = spiral_data(samples=100, classes=3) \n",
    "\n",
    "dense1 = Layer_dense(2,3)\n",
    "dense1.forward(X)\n",
    "print(dense1.output[:5])\n",
    "\n"
   ]
  }
 ],
 "metadata": {
  "kernelspec": {
   "display_name": "Python 3",
   "language": "python",
   "name": "python3"
  },
  "language_info": {
   "codemirror_mode": {
    "name": "ipython",
    "version": 3
   },
   "file_extension": ".py",
   "mimetype": "text/x-python",
   "name": "python",
   "nbconvert_exporter": "python",
   "pygments_lexer": "ipython3",
   "version": "3.9.6"
  }
 },
 "nbformat": 4,
 "nbformat_minor": 5
}
