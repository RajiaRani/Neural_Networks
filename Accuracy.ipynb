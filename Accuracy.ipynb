{
 "cells": [
  {
   "cell_type": "code",
   "execution_count": 6,
   "id": "cda5000a",
   "metadata": {},
   "outputs": [],
   "source": [
    "import numpy as np\n",
    "import numpy as np\n",
    "import nnfs\n",
    "from nnfs.datasets import spiral_data\n",
    "nnfs.init()"
   ]
  },
  {
   "cell_type": "code",
   "execution_count": 11,
   "id": "d55b1256",
   "metadata": {},
   "outputs": [
    {
     "name": "stdout",
     "output_type": "stream",
     "text": [
      "Predictions =  [0 1 1]\n",
      "Class Targets =  [0 1 1]\n",
      "Accuracy =  1.0\n"
     ]
    }
   ],
   "source": [
    "softmax_output = np.array([ [0.7, 0.2, 0.3], [0.1, 0.5, 0.2], [0.2, 0.9, 0.6]])\n",
    "class_target = np.array([0, 1, 1])\n",
    "\n",
    "# Calculate values along second axis(axis of index 1)\n",
    "predictions = np.argmax(softmax_output, axis=1)\n",
    "print(\"Predictions = \", predictions)\n",
    "\n",
    "# If targest are one-hot encoded 0- convert them\n",
    "if len(class_target.shape) == 2:\n",
    "    class_target = np.argmax(class_target, axis=1)\n",
    "print(\"Class Targets = \", class_target)\n",
    "\n",
    "# True evaluates to 1; False to 0\n",
    "accuracy = np.mean(predictions == class_target)\n",
    "print(\"Accuracy = \", accuracy)\n"
   ]
  }
 ],
 "metadata": {
  "kernelspec": {
   "display_name": "Python 3",
   "language": "python",
   "name": "python3"
  },
  "language_info": {
   "codemirror_mode": {
    "name": "ipython",
    "version": 3
   },
   "file_extension": ".py",
   "mimetype": "text/x-python",
   "name": "python",
   "nbconvert_exporter": "python",
   "pygments_lexer": "ipython3",
   "version": "3.9.6"
  }
 },
 "nbformat": 4,
 "nbformat_minor": 5
}
