{
 "cells": [
  {
   "cell_type": "markdown",
   "id": "14cc2aa5",
   "metadata": {},
   "source": [
    "Gradient of Loss With respect to Weights"
   ]
  },
  {
   "cell_type": "code",
   "execution_count": 10,
   "id": "743fde9d",
   "metadata": {},
   "outputs": [
    {
     "name": "stdout",
     "output_type": "stream",
     "text": [
      "[[ 0.5  0.5  0.5]\n",
      " [20.1 20.1 20.1]\n",
      " [10.9 10.9 10.9]\n",
      " [ 4.1  4.1  4.1]]\n"
     ]
    }
   ],
   "source": [
    "import numpy as np\n",
    "dL_dZValues = np.array([ [1., 1., 1.],[2., 2., 2.], [3., 3., 3.]])\n",
    "\n",
    "inputs = np.array([[1, 2, 3, 2.5], [2., 5. , -1., 2.], [-1.5, 2.7, 3.3, -0.8] ])\n",
    "\n",
    "dL_dW = np.dot(inputs.T , dL_dZValues)\n",
    "print(dL_dW)\n"
   ]
  },
  {
   "cell_type": "markdown",
   "id": "b9bfe2e3",
   "metadata": {},
   "source": [
    "Graient of loss with respect to Biases"
   ]
  },
  {
   "cell_type": "code",
   "execution_count": 12,
   "id": "c14af1f7",
   "metadata": {},
   "outputs": [
    {
     "name": "stdout",
     "output_type": "stream",
     "text": [
      "[[6. 6. 6.]]\n"
     ]
    }
   ],
   "source": [
    "import numpy as np\n",
    "dL_dZValues = np.array([ [1., 1., 1.],[2., 2., 2.], [3., 3., 3.]])\n",
    "\n",
    "biases = np.array([2, 3, 0.5])\n",
    "\n",
    "dL_dBiases = np.sum(dL_dZValues, axis=0, keepdims=True)\n",
    "print(dL_dBiases)"
   ]
  },
  {
   "cell_type": "markdown",
   "id": "0a7d8995",
   "metadata": {},
   "source": [
    "Gradient of loss with respect to INPUTS"
   ]
  },
  {
   "cell_type": "code",
   "execution_count": 16,
   "id": "ccd29c9e",
   "metadata": {},
   "outputs": [
    {
     "name": "stdout",
     "output_type": "stream",
     "text": [
      "[[ 0.44 -0.38 -0.07  1.37]\n",
      " [ 0.88 -0.76 -0.14  2.74]\n",
      " [ 1.32 -1.14 -0.21  4.11]]\n"
     ]
    }
   ],
   "source": [
    "import numpy as np\n",
    "dL_dZValues = np.array([ [1., 1., 1.],[2., 2., 2.], [3., 3., 3.]])\n",
    "W = np.array([ [0.2, 0.8, -0.5, 1], [0.5, -0.91, 0.26, -0.5], [-0.26, -0.27, 0.17, 0.87]]).T\n",
    "\n",
    "dL_dX = np.dot(dL_dZValues, W.T)\n",
    "print(dL_dX)"
   ]
  },
  {
   "cell_type": "markdown",
   "id": "18ee614e",
   "metadata": {},
   "source": [
    "Activation function - Backpropagation "
   ]
  },
  {
   "cell_type": "code",
   "execution_count": 2,
   "id": "dd62106f",
   "metadata": {},
   "outputs": [
    {
     "ename": "NameError",
     "evalue": "name 'np' is not defined",
     "output_type": "error",
     "traceback": [
      "\u001b[0;31m---------------------------------------------------------------------------\u001b[0m",
      "\u001b[0;31mNameError\u001b[0m                                 Traceback (most recent call last)",
      "Cell \u001b[0;32mIn[2], line 1\u001b[0m\n\u001b[0;32m----> 1\u001b[0m dValues \u001b[38;5;241m=\u001b[39m \u001b[43mnp\u001b[49m\u001b[38;5;241m.\u001b[39marray([ [\u001b[38;5;241m1.\u001b[39m, \u001b[38;5;241m1.\u001b[39m, \u001b[38;5;241m1.\u001b[39m],[\u001b[38;5;241m2.\u001b[39m, \u001b[38;5;241m2.\u001b[39m, \u001b[38;5;241m2.\u001b[39m], [\u001b[38;5;241m3.\u001b[39m, \u001b[38;5;241m3.\u001b[39m, \u001b[38;5;241m3.\u001b[39m]])\n\u001b[1;32m      2\u001b[0m \u001b[38;5;66;03m#ReLU Activation\u001b[39;00m\n\u001b[1;32m      3\u001b[0m \u001b[38;5;28;01mclass\u001b[39;00m\u001b[38;5;250m \u001b[39m\u001b[38;5;21;01mActivation_ReLU\u001b[39;00m:\n\u001b[1;32m      4\u001b[0m     \u001b[38;5;66;03m#Forward Pass\u001b[39;00m\n",
      "\u001b[0;31mNameError\u001b[0m: name 'np' is not defined"
     ]
    }
   ],
   "source": [
    "dValues = np.array([ [1., 1., 1.],[2., 2., 2.], [3., 3., 3.]])\n",
    "#ReLU Activation\n",
    "class Activation_ReLU:\n",
    "    #Forward Pass\n",
    "    def forward(self, inputs):\n",
    "        self.output = np.maximum(0, inputs)\n",
    "    \n",
    "    #Backward Pass\n",
    "    def backward(self, dValues):\n",
    "        self.dInputs = dValues.copy()\n",
    "        self.dInputs[self.inputs <= 0] = 0 "
   ]
  },
  {
   "cell_type": "code",
   "execution_count": 3,
   "id": "37ff0d7d",
   "metadata": {},
   "outputs": [
    {
     "ename": "NameError",
     "evalue": "name 'Loss' is not defined",
     "output_type": "error",
     "traceback": [
      "\u001b[0;31m---------------------------------------------------------------------------\u001b[0m",
      "\u001b[0;31mNameError\u001b[0m                                 Traceback (most recent call last)",
      "Cell \u001b[0;32mIn[3], line 2\u001b[0m\n\u001b[1;32m      1\u001b[0m \u001b[38;5;66;03m#Cross-Entropy Loss\u001b[39;00m\n\u001b[0;32m----> 2\u001b[0m \u001b[38;5;28;01mclass\u001b[39;00m\u001b[38;5;250m \u001b[39m\u001b[38;5;21;01mLoss_CategoricalCrossentropy\u001b[39;00m(\u001b[43mLoss\u001b[49m):\n\u001b[1;32m      3\u001b[0m     \n\u001b[1;32m      4\u001b[0m     \u001b[38;5;66;03m#Backward pass\u001b[39;00m\n\u001b[1;32m      5\u001b[0m     \u001b[38;5;28;01mdef\u001b[39;00m\u001b[38;5;250m \u001b[39m\u001b[38;5;21mbackward\u001b[39m(\u001b[38;5;28mself\u001b[39m, dvalues, y_true):\n\u001b[1;32m      6\u001b[0m         \u001b[38;5;66;03m# Number of samples\u001b[39;00m\n\u001b[1;32m      7\u001b[0m         samples \u001b[38;5;241m=\u001b[39m \u001b[38;5;28mlen\u001b[39m(dvalues)\n",
      "\u001b[0;31mNameError\u001b[0m: name 'Loss' is not defined"
     ]
    }
   ],
   "source": [
    "#Cross-Entropy Loss\n",
    "class Loss_CategoricalCrossentropy(Loss):\n",
    "    \n",
    "    #Backward pass\n",
    "    def backward(self, dvalues, y_true):\n",
    "        # Number of samples\n",
    "        samples = len(dvalues)\n",
    "        # Number of labels in every sample\n",
    "        # We'll use the first sample to count them\n",
    "        labels = len(dvalues[0])\n",
    "\n",
    "        # if labels are sparse, turn into one-hot vector\n",
    "        if len(y_true.shape) == 1:\n",
    "            y_true = np.eye(labels)[y_true]\n",
    "\n",
    "        # Calculate gradient\n",
    "        self.dinputs = - y_true / dvalues\n",
    "        # Normalize gradient\n",
    "        self.dinputs = self.dinputs / samples"
   ]
  }
 ],
 "metadata": {
  "kernelspec": {
   "display_name": "Python 3",
   "language": "python",
   "name": "python3"
  },
  "language_info": {
   "codemirror_mode": {
    "name": "ipython",
    "version": 3
   },
   "file_extension": ".py",
   "mimetype": "text/x-python",
   "name": "python",
   "nbconvert_exporter": "python",
   "pygments_lexer": "ipython3",
   "version": "3.9.6"
  }
 },
 "nbformat": 4,
 "nbformat_minor": 5
}
